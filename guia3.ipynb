{
 "cells": [
  {
   "cell_type": "markdown",
   "metadata": {},
   "source": [
    "# Guía N°3: Controlabilidad y observabilidad \n",
    "## Ejercicio 1 a."
   ]
  },
  {
   "cell_type": "code",
   "execution_count": 20,
   "metadata": {},
   "outputs": [
    {
     "name": "stdout",
     "output_type": "stream",
     "text": [
      "Observability Matrix:\n"
     ]
    },
    {
     "data": {
      "text/latex": [
       "$\\displaystyle \\left[\\begin{matrix}1 & 0 & 0\\\\0 & 1 & 0\\\\0 & 0 & 1\\end{matrix}\\right]$"
      ],
      "text/plain": [
       "Matrix([\n",
       "[1, 0, 0],\n",
       "[0, 1, 0],\n",
       "[0, 0, 1]])"
      ]
     },
     "execution_count": 20,
     "metadata": {},
     "output_type": "execute_result"
    }
   ],
   "source": [
    "import sympy as sp\n",
    "\n",
    "s, t, a_0, a_1, a_2 = sp.symbols(\"s t a_0 a_1 a_2\")\n",
    "\n",
    "A = sp.Matrix([[0,1,0],[0,0,1],[-1*a_0,-1*a_1,-1*a_2]])\n",
    "B = sp.Matrix([[0],[0],[1]])\n",
    "C = sp.Matrix([[1,0,0]])\n",
    "\n",
    "# A is a matrix of mxn size\n",
    "m = A.shape[0]\n",
    "n = A.shape[1]\n",
    "\n",
    "# Controllability n observability matrix\n",
    "Ctlb = B\n",
    "Obs = C\n",
    "\n",
    "for i in range(1, m):\n",
    "    Ctlb = Ctlb.row_join(A**i * B)\n",
    "    Obs = Obs.row_insert(i,C * A**i)\n",
    "\n",
    "# print(\"Controllability Matrix:\")\n",
    "# Ctlb\n",
    "\n",
    "print(\"Observability Matrix:\")\n",
    "Obs\n"
   ]
  },
  {
   "cell_type": "markdown",
   "metadata": {},
   "source": [
    "## Ejercicio 1 b"
   ]
  },
  {
   "cell_type": "code",
   "execution_count": 28,
   "metadata": {},
   "outputs": [
    {
     "name": "stdout",
     "output_type": "stream",
     "text": [
      "controlable\n",
      "observable\n"
     ]
    },
    {
     "data": {
      "text/plain": [
       "2"
      ]
     },
     "execution_count": 28,
     "metadata": {},
     "output_type": "execute_result"
    }
   ],
   "source": [
    "A = sp.Matrix([[2,0],[1,3]])\n",
    "B = sp.Matrix([[1],[0]])\n",
    "C = sp.Matrix([[0,1]])\n",
    "\n",
    "Ctrl = B\n",
    "Obs = C\n",
    "\n",
    "for i in range(1, A.shape[0]):\n",
    "    Ctrl = Ctrl.col_insert(i, A**i * B)\n",
    "    Obs = Obs.row_insert(i, C * A**i)\n",
    "\n",
    "if (Ctrl.det() == 0):\n",
    "    print(\"no controlable\")\n",
    "else: \n",
    "    print(\"controlable\")\n",
    "\n",
    "if (Obs.det() == 0):\n",
    "    print(\"no observable\")\n",
    "else: \n",
    "    print(\"observable\")\n"
   ]
  },
  {
   "cell_type": "markdown",
   "metadata": {},
   "source": [
    "### Rango y determinante"
   ]
  },
  {
   "cell_type": "code",
   "execution_count": 32,
   "metadata": {},
   "outputs": [
    {
     "name": "stdout",
     "output_type": "stream",
     "text": [
      "rango:  2\n",
      "determinante:  1\n"
     ]
    }
   ],
   "source": [
    "print(\"rango: \", Ctrl.rank())\n",
    "print(\"determinante: \", Ctrl.det())"
   ]
  },
  {
   "cell_type": "markdown",
   "metadata": {},
   "source": [
    "## Ejercicio 2"
   ]
  },
  {
   "cell_type": "code",
   "execution_count": null,
   "metadata": {},
   "outputs": [],
   "source": []
  }
 ],
 "metadata": {
  "kernelspec": {
   "display_name": "Python 3",
   "language": "python",
   "name": "python3"
  },
  "language_info": {
   "codemirror_mode": {
    "name": "ipython",
    "version": 3
   },
   "file_extension": ".py",
   "mimetype": "text/x-python",
   "name": "python",
   "nbconvert_exporter": "python",
   "pygments_lexer": "ipython3",
   "version": "3.11.5"
  }
 },
 "nbformat": 4,
 "nbformat_minor": 2
}
